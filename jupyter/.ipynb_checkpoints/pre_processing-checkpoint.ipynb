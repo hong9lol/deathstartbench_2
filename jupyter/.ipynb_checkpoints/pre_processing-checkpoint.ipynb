{
 "cells": [
  {
   "cell_type": "code",
   "execution_count": 1,
   "id": "4594e17e",
   "metadata": {},
   "outputs": [],
   "source": [
    "import pandas as pd\n",
    "import numpy as np"
   ]
  },
  {
   "cell_type": "code",
   "execution_count": 4,
   "id": "461cb3f4",
   "metadata": {},
   "outputs": [],
   "source": [
    "import os\n",
    "\n",
    "base = '../benchmark_scripts/log/dataset/'\n",
    "dir_list = os.listdir(base)"
   ]
  },
  {
   "cell_type": "code",
   "execution_count": 22,
   "id": "62c7d7f4",
   "metadata": {
    "scrolled": true
   },
   "outputs": [
    {
     "name": "stdout",
     "output_type": "stream",
     "text": [
      "11-20_192202 [9, 3, 33, 11, 3, 5, 1, 2, 3, 1, 29, 6, 2, 28, 27, 2, 4, 1, 2, 2, 1, 26, 6, 2, 28, 25, 2, 3, 0, 2, 2, 1, 30, 5, 2, 25, 31, 1, 3, 0, 1, 1, 0, 29, 5, 2, 25, 30, 1, 3, 0, 2, 2, 0, 28]\n",
      "11-20_175743 [21, 5, 20, 9, 6, 12, 2, 6, 7, 2, 11, 19, 4, 19, 12, 5, 12, 2, 6, 6, 2, 14, 18, 4, 18, 15, 5, 10, 1, 5, 6, 1, 16, 15, 4, 20, 16, 4, 10, 1, 5, 6, 1, 17, 13, 5, 22, 19, 4, 9, 1, 4, 4, 1, 19]\n",
      "11-20_204621 [15, 6, 25, 9, 5, 10, 2, 5, 6, 2, 15, 15, 5, 23, 15, 4, 9, 1, 4, 4, 1, 18, 11, 4, 24, 21, 3, 7, 1, 3, 3, 1, 22, 9, 5, 26, 25, 2, 4, 1, 3, 1, 1, 24, 10, 4, 24, 23, 3, 6, 1, 3, 3, 1, 23]\n"
     ]
    }
   ],
   "source": [
    "from openpyxl import load_workbook\n",
    "\n",
    "total_deployment = 11\n",
    "deployment_list = [\n",
    "\"compose-post-service\",\n",
    "\"home-timeline-service\",\n",
    "\"nginx-thrift\",\n",
    "\"post-storage-service\",\n",
    "\"social-graph-service\",\n",
    "\"text-service\",\n",
    "\"unique-id-service\",\n",
    "\"url-shorten-service\",\n",
    "\"user-mention-service\",\n",
    "\"user-service\",\n",
    "\"user-timeline-service\"\n",
    "]\n",
    "\n",
    "def is_interested_line(line):\n",
    "    for d in deployment_list:\n",
    "        if \"Deployment/\"+d in line:\n",
    "            return True\n",
    "    return False\n",
    "\n",
    "def get_rate(l):\n",
    "    rate = []\n",
    "    s = sum(l)\n",
    "    for _l in l:\n",
    "        rate.append(round((_l/float(s)) * 100))\n",
    "    return rate\n",
    "\n",
    "summary_ratio =[]\n",
    "summary_rate =[]\n",
    "\n",
    "file_path = 'data.xlsx'  # 여기에 파일 경로를 입력하세요\n",
    "# new_data = pd.DataFrame({})\n",
    "# new_data.T.to_excel(file_path, index=False, header=True, sheet_name=\"summary\")\n",
    "# os.system('touch ' + file_path)\n",
    "# Pandas ExcelWriter를 사용하여 기존 book 객체에 연결\n",
    "writer = pd.ExcelWriter(file_path, engine='openpyxl') \n",
    "for d in dir_list:\n",
    "    if d[0] == '.':\n",
    "        continue\n",
    "    file_name = d \n",
    "    ratio = None\n",
    "    name = []\n",
    "    usage = []\n",
    "    rate = []\n",
    "    with open(base + d + '/output.log', 'r') as f:\n",
    "#     with open('../benchmark_scripts/log/11-19_233141_only_home/output.log', 'r') as f:\n",
    "    # read all lines in a list\n",
    "        lines = f.readlines()\n",
    "        for i, line in enumerate(lines):\n",
    "            if i == 1:\n",
    "                ratio = line.split(\"] \")[1].split(\"\\n\")[0]\n",
    "            if is_interested_line(line):\n",
    "                raw_data = line.split(' ')\n",
    "                if '' in raw_data:\n",
    "                    while '' in raw_data:\n",
    "                        raw_data.remove('')\n",
    "                name.append(raw_data[0])\n",
    "                usage.append(int(raw_data[2].split(\"%/\")[0]) * int(raw_data[5]))\n",
    "    for i in range(0, int(len(usage)/total_deployment)):\n",
    "        rate += get_rate(usage[i*total_deployment:i*total_deployment+total_deployment])\n",
    "    print(d, rate)\n",
    "    df = pd.DataFrame([name, usage, rate], index=['name', 'usage', 'rate'])\n",
    "    df.T.to_excel(writer, index=False, header=True, sheet_name=ratio)\n",
    "    writer.save()    \n",
    "    # make summary\n",
    "    summary_ratio.append(ratio)\n",
    "    _rate = []\n",
    "    for i in range(0, total_deployment):\n",
    "        _rate.append((rate[11+i]+rate[22+i])/2.0)\n",
    "    summary_rate.append(_rate)\n",
    "    \n",
    "    df = pd.DataFrame(summary_rate, index=summary_ratio)\n",
    "    df.T.to_excel(writer, index=False, header=True, sheet_name=\"summary\")\n",
    "    writer.save()   \n",
    "writer.close())\n",
    "\n"
   ]
  },
  {
   "cell_type": "code",
   "execution_count": null,
   "id": "d2d63ff7",
   "metadata": {},
   "outputs": [],
   "source": []
  },
  {
   "cell_type": "code",
   "execution_count": null,
   "id": "68321ceb",
   "metadata": {},
   "outputs": [],
   "source": []
  }
 ],
 "metadata": {
  "kernelspec": {
   "display_name": "Python 3 (ipykernel)",
   "language": "python",
   "name": "python3"
  },
  "language_info": {
   "codemirror_mode": {
    "name": "ipython",
    "version": 3
   },
   "file_extension": ".py",
   "mimetype": "text/x-python",
   "name": "python",
   "nbconvert_exporter": "python",
   "pygments_lexer": "ipython3",
   "version": "3.9.13"
  }
 },
 "nbformat": 4,
 "nbformat_minor": 5
}
